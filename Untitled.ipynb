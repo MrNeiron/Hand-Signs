{
 "cells": [
  {
   "cell_type": "code",
   "execution_count": 30,
   "metadata": {},
   "outputs": [],
   "source": [
    "import numpy as np\n",
    "from matplotlib import pyplot as plt\n",
    "from PIL import Image"
   ]
  },
  {
   "cell_type": "code",
   "execution_count": 31,
   "metadata": {},
   "outputs": [],
   "source": [
    "import h5py"
   ]
  },
  {
   "cell_type": "code",
   "execution_count": 32,
   "metadata": {},
   "outputs": [],
   "source": [
    "img_array = np.load(\"datasets/X.npy\")"
   ]
  },
  {
   "cell_type": "code",
   "execution_count": 12,
   "metadata": {},
   "outputs": [],
   "source": [
    "train_dataset = h5py.File(\"datasets/train_signs.h5\", 'r')\n",
    "train_set_x_orig = np.array(train_dataset[\"train_set_x\"][:]) # your train set features\n",
    "train_set_y_orig = np.array(train_dataset[\"train_set_y\"][:]) # your train set labels\n",
    "\n",
    "train_set_y_orig = train_set_y_orig.reshape((1, train_set_y_orig.shape[0]))\n"
   ]
  },
  {
   "cell_type": "code",
   "execution_count": 16,
   "metadata": {},
   "outputs": [
    {
     "name": "stdout",
     "output_type": "stream",
     "text": [
      "(64, 64, 3)\n"
     ]
    }
   ],
   "source": [
    "print(train_set_x_orig[0].shape)"
   ]
  },
  {
   "cell_type": "code",
   "execution_count": 25,
   "metadata": {},
   "outputs": [],
   "source": [
    "for i in range(train_set_x_orig.shape[0]):\n",
    "    img = Image.fromarray(train_set_x_orig[i], \"RGB\")\n",
    "    img.save(f\"datasets/images/sign({i}).jpg\")\n",
    "    #img.show()"
   ]
  },
  {
   "cell_type": "code",
   "execution_count": 33,
   "metadata": {},
   "outputs": [
    {
     "data": {
      "text/plain": [
       "(2062, 64, 64)"
      ]
     },
     "execution_count": 33,
     "metadata": {},
     "output_type": "execute_result"
    }
   ],
   "source": [
    "img_array.shape"
   ]
  },
  {
   "cell_type": "code",
   "execution_count": 41,
   "metadata": {},
   "outputs": [
    {
     "name": "stdout",
     "output_type": "stream",
     "text": [
      "(64, 64, 1)\n",
      "(64, 64, 1)\n"
     ]
    }
   ],
   "source": [
    "for i in range(img_array.shape[0]):\n",
    "    if i == 2: break\n",
    "    img.shape = (64,64,1)\n",
    "    print(img.shape)\n",
    "    img = Image.fromarray(img_array[i])\n",
    "    #img.save(f\"datasets/images/sign({i}).jpg\")\n",
    "    img.show()"
   ]
  },
  {
   "cell_type": "code",
   "execution_count": 9,
   "metadata": {},
   "outputs": [],
   "source": [
    "import sqlite3"
   ]
  },
  {
   "cell_type": "code",
   "execution_count": 157,
   "metadata": {},
   "outputs": [],
   "source": [
    "def readImage(filename):\n",
    "    try:\n",
    "        fin = open(filename, \"rb\")\n",
    "        img = fin.read()\n",
    "        return img\n",
    "    except :\n",
    "        print(\"Error1\")\n",
    "        \n",
    "    finally:\n",
    "        if fin:\n",
    "            fin.close()"
   ]
  },
  {
   "cell_type": "code",
   "execution_count": 158,
   "metadata": {},
   "outputs": [],
   "source": [
    "def writeImage(data, filename):\n",
    "    try:\n",
    "        fout = open(filename, \"wb\")\n",
    "        fout.write(data)\n",
    "        \n",
    "    except:\n",
    "        print(\"Error1\")\n",
    "    finally:\n",
    "        if fout:\n",
    "            fout.close()"
   ]
  },
  {
   "cell_type": "code",
   "execution_count": 164,
   "metadata": {},
   "outputs": [],
   "source": [
    "def Sql_create_table(name_database, name_table, fields):\n",
    "    try:\n",
    "        conn = sqlite3.connect(name_database)\n",
    "        cur = conn.cursor()\n",
    "        cur.execute(f\"CREATE TABLE IF NOT EXISTS  {name_table}({fields})\")\n",
    "        conn.commit()\n",
    "        print(\"Success\")\n",
    "    except:\n",
    "        if conn:\n",
    "            conn.rollback()\n",
    "        print(\"Error\")\n",
    "    finally:\n",
    "        if conn:\n",
    "            conn.close()"
   ]
  },
  {
   "cell_type": "code",
   "execution_count": 165,
   "metadata": {},
   "outputs": [
    {
     "name": "stdout",
     "output_type": "stream",
     "text": [
      "Success\n"
     ]
    }
   ],
   "source": [
    "Sql_create_table(\"fortest.db\", \"test_table\", \"Id PRIMARY KEY, Data BLOB\")"
   ]
  },
  {
   "cell_type": "code",
   "execution_count": 189,
   "metadata": {},
   "outputs": [],
   "source": [
    "def Sql_add_values(name_database, name_table, field, values):\n",
    "    try:\n",
    "        conn = sqlite3.connect(name_database)\n",
    "        cur = conn.cursor()\n",
    "        cur.execute(f\"INSERT INTO {name_table}({field}) VALUES(?)\", values)\n",
    "        conn.commit()\n",
    "        print(\"Success\")\n",
    "    except:\n",
    "        if conn:\n",
    "            conn.rollback()\n",
    "        print(\"Error\")\n",
    "    finally:\n",
    "        if conn:\n",
    "            conn.close()"
   ]
  },
  {
   "cell_type": "code",
   "execution_count": 190,
   "metadata": {},
   "outputs": [
    {
     "name": "stdout",
     "output_type": "stream",
     "text": [
      "Success\n"
     ]
    }
   ],
   "source": [
    "data = readImage(\"datasets/images/sign(10).jpg\")\n",
    "binary = sqlite3.Binary(data)\n",
    "Sql_add_values(\"fortest.db\", \"test_table\", \"Data\", (binary, ))"
   ]
  },
  {
   "cell_type": "code",
   "execution_count": 193,
   "metadata": {},
   "outputs": [],
   "source": [
    "def Sql_get_values(name_database, name_table, fields):\n",
    "    try:\n",
    "        conn = sqlite3.connect(name_database)\n",
    "        cur = conn.cursor()\n",
    "        cur.execute(f\"SELECT {fields} FROM {name_table}\")\n",
    "        values = cur.fetchone()[0]\n",
    "        print(\"Success\")\n",
    "        return values\n",
    "    except:\n",
    "        if conn:\n",
    "            conn.rollback()\n",
    "        print(\"Error\")\n",
    "    finally:\n",
    "        if conn:\n",
    "            conn.close()"
   ]
  },
  {
   "cell_type": "code",
   "execution_count": 194,
   "metadata": {},
   "outputs": [
    {
     "name": "stdout",
     "output_type": "stream",
     "text": [
      "Success\n"
     ]
    }
   ],
   "source": [
    "writeImage(Sql_get_values(\"fortest.db\", \"test_table\", \"Data\"), \"datasets/sdfa2.jpg\")"
   ]
  },
  {
   "cell_type": "code",
   "execution_count": 33,
   "metadata": {},
   "outputs": [
    {
     "name": "stdout",
     "output_type": "stream",
     "text": [
      "Here\n"
     ]
    }
   ],
   "source": [
    "try:\n",
    "    conn = sqlite3.connect(\"Images.db\")\n",
    "    cur = conn.cursor()\n",
    "    data = readImage(\"datasets/images/sign(0).jpg\")\n",
    "\n",
    "    binary = sqlite3.Binary(data)\n",
    "\n",
    "    cur.execute(\"CREATE TABLE Images(Id INTEGER PRIMARY KEY, Data BLOB)\")\n",
    "    cur.execute(\"INSERT INTO Images(Data) VALUES(?)\", (binary, ))\n",
    "    print(\"Here\")\n",
    "    conn.commit()\n",
    "\n",
    "    \n",
    "except:\n",
    "    if conn:\n",
    "        conn.rollback()\n",
    "        \n",
    "    print(\"Error2\")\n",
    "    \n",
    "finally:\n",
    "    if conn:\n",
    "        conn.close()"
   ]
  },
  {
   "cell_type": "code",
   "execution_count": 100,
   "metadata": {},
   "outputs": [],
   "source": [
    "try:\n",
    "    con = sqlite3.connect(\"Images.db\")\n",
    "    cur = con.cursor()\n",
    "    cur.execute(\"SELECT Data FROM Images\")\n",
    "    data = cur.fetchone()[0]\n",
    "    writeImage(data, \"datasets/test.jpg\")\n",
    "    \n",
    "except:\n",
    "    print(\"Error2\")\n",
    "finally:\n",
    "    if con:\n",
    "        con.close()"
   ]
  },
  {
   "cell_type": "code",
   "execution_count": null,
   "metadata": {},
   "outputs": [],
   "source": []
  }
 ],
 "metadata": {
  "kernelspec": {
   "display_name": "Python 3",
   "language": "python",
   "name": "python3"
  },
  "language_info": {
   "codemirror_mode": {
    "name": "ipython",
    "version": 3
   },
   "file_extension": ".py",
   "mimetype": "text/x-python",
   "name": "python",
   "nbconvert_exporter": "python",
   "pygments_lexer": "ipython3",
   "version": "3.6.5"
  }
 },
 "nbformat": 4,
 "nbformat_minor": 2
}
